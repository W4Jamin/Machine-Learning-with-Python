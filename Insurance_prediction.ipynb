{
 "cells": [
  {
   "cell_type": "code",
   "execution_count": 1,
   "metadata": {},
   "outputs": [
    {
     "data": {
      "text/html": [
       "<div>\n",
       "<style scoped>\n",
       "    .dataframe tbody tr th:only-of-type {\n",
       "        vertical-align: middle;\n",
       "    }\n",
       "\n",
       "    .dataframe tbody tr th {\n",
       "        vertical-align: top;\n",
       "    }\n",
       "\n",
       "    .dataframe thead th {\n",
       "        text-align: right;\n",
       "    }\n",
       "</style>\n",
       "<table border=\"1\" class=\"dataframe\">\n",
       "  <thead>\n",
       "    <tr style=\"text-align: right;\">\n",
       "      <th></th>\n",
       "      <th>age</th>\n",
       "      <th>sex</th>\n",
       "      <th>bmi</th>\n",
       "      <th>children</th>\n",
       "      <th>smoker</th>\n",
       "      <th>region</th>\n",
       "      <th>charges</th>\n",
       "    </tr>\n",
       "  </thead>\n",
       "  <tbody>\n",
       "    <tr>\n",
       "      <th>0</th>\n",
       "      <td>19</td>\n",
       "      <td>female</td>\n",
       "      <td>27.900</td>\n",
       "      <td>0</td>\n",
       "      <td>yes</td>\n",
       "      <td>southwest</td>\n",
       "      <td>16884.92400</td>\n",
       "    </tr>\n",
       "    <tr>\n",
       "      <th>1</th>\n",
       "      <td>18</td>\n",
       "      <td>male</td>\n",
       "      <td>33.770</td>\n",
       "      <td>1</td>\n",
       "      <td>no</td>\n",
       "      <td>southeast</td>\n",
       "      <td>1725.55230</td>\n",
       "    </tr>\n",
       "    <tr>\n",
       "      <th>2</th>\n",
       "      <td>28</td>\n",
       "      <td>male</td>\n",
       "      <td>33.000</td>\n",
       "      <td>3</td>\n",
       "      <td>no</td>\n",
       "      <td>southeast</td>\n",
       "      <td>4449.46200</td>\n",
       "    </tr>\n",
       "    <tr>\n",
       "      <th>3</th>\n",
       "      <td>33</td>\n",
       "      <td>male</td>\n",
       "      <td>22.705</td>\n",
       "      <td>0</td>\n",
       "      <td>no</td>\n",
       "      <td>northwest</td>\n",
       "      <td>21984.47061</td>\n",
       "    </tr>\n",
       "    <tr>\n",
       "      <th>4</th>\n",
       "      <td>32</td>\n",
       "      <td>male</td>\n",
       "      <td>28.880</td>\n",
       "      <td>0</td>\n",
       "      <td>no</td>\n",
       "      <td>northwest</td>\n",
       "      <td>3866.85520</td>\n",
       "    </tr>\n",
       "  </tbody>\n",
       "</table>\n",
       "</div>"
      ],
      "text/plain": [
       "   age     sex     bmi  children smoker     region      charges\n",
       "0   19  female  27.900         0    yes  southwest  16884.92400\n",
       "1   18    male  33.770         1     no  southeast   1725.55230\n",
       "2   28    male  33.000         3     no  southeast   4449.46200\n",
       "3   33    male  22.705         0     no  northwest  21984.47061\n",
       "4   32    male  28.880         0     no  northwest   3866.85520"
      ]
     },
     "execution_count": 1,
     "metadata": {},
     "output_type": "execute_result"
    }
   ],
   "source": [
    "# Get the data\n",
    "import pandas as pd\n",
    "import numpy as np\n",
    "insurance = pd.read_csv(\"insurance.csv\")\n",
    "insurance.head()"
   ]
  },
  {
   "cell_type": "code",
   "execution_count": 2,
   "metadata": {},
   "outputs": [
    {
     "name": "stdout",
     "output_type": "stream",
     "text": [
      "<class 'pandas.core.frame.DataFrame'>\n",
      "RangeIndex: 1338 entries, 0 to 1337\n",
      "Data columns (total 7 columns):\n",
      "age         1338 non-null int64\n",
      "sex         1338 non-null object\n",
      "bmi         1338 non-null float64\n",
      "children    1338 non-null int64\n",
      "smoker      1338 non-null object\n",
      "region      1338 non-null object\n",
      "charges     1338 non-null float64\n",
      "dtypes: float64(2), int64(2), object(3)\n",
      "memory usage: 73.2+ KB\n"
     ]
    }
   ],
   "source": [
    "insurance.info()"
   ]
  },
  {
   "cell_type": "code",
   "execution_count": 3,
   "metadata": {},
   "outputs": [
    {
     "data": {
      "text/plain": [
       "array([[<matplotlib.axes._subplots.AxesSubplot object at 0x000001A2BE5D9780>,\n",
       "        <matplotlib.axes._subplots.AxesSubplot object at 0x000001A2BE863E48>],\n",
       "       [<matplotlib.axes._subplots.AxesSubplot object at 0x000001A2BE883518>,\n",
       "        <matplotlib.axes._subplots.AxesSubplot object at 0x000001A2BE89BBA8>]],\n",
       "      dtype=object)"
      ]
     },
     "execution_count": 3,
     "metadata": {},
     "output_type": "execute_result"
    },
    {
     "data": {
      "image/png": "[encoded data removed]",
      "text/plain": [
       "<Figure size 1440x1080 with 4 Axes>"
      ]
     },
     "metadata": {},
     "output_type": "display_data"
    }
   ],
   "source": [
    "%matplotlib inline\n",
    "import matplotlib.pyplot as plt\n",
    "insurance.hist(bins=50, figsize=(20,15))"
   ]
  },
  {
   "cell_type": "code",
   "execution_count": 4,
   "metadata": {},
   "outputs": [
    {
     "data": {
      "text/html": [
       "<div>\n",
       "<style scoped>\n",
       "    .dataframe tbody tr th:only-of-type {\n",
       "        vertical-align: middle;\n",
       "    }\n",
       "\n",
       "    .dataframe tbody tr th {\n",
       "        vertical-align: top;\n",
       "    }\n",
       "\n",
       "    .dataframe thead th {\n",
       "        text-align: right;\n",
       "    }\n",
       "</style>\n",
       "<table border=\"1\" class=\"dataframe\">\n",
       "  <thead>\n",
       "    <tr style=\"text-align: right;\">\n",
       "      <th></th>\n",
       "      <th>age</th>\n",
       "      <th>bmi</th>\n",
       "      <th>children</th>\n",
       "      <th>charges</th>\n",
       "    </tr>\n",
       "  </thead>\n",
       "  <tbody>\n",
       "    <tr>\n",
       "      <th>age</th>\n",
       "      <td>1.000000</td>\n",
       "      <td>0.109272</td>\n",
       "      <td>0.042469</td>\n",
       "      <td>0.299008</td>\n",
       "    </tr>\n",
       "    <tr>\n",
       "      <th>bmi</th>\n",
       "      <td>0.109272</td>\n",
       "      <td>1.000000</td>\n",
       "      <td>0.012759</td>\n",
       "      <td>0.198341</td>\n",
       "    </tr>\n",
       "    <tr>\n",
       "      <th>children</th>\n",
       "      <td>0.042469</td>\n",
       "      <td>0.012759</td>\n",
       "      <td>1.000000</td>\n",
       "      <td>0.067998</td>\n",
       "    </tr>\n",
       "    <tr>\n",
       "      <th>charges</th>\n",
       "      <td>0.299008</td>\n",
       "      <td>0.198341</td>\n",
       "      <td>0.067998</td>\n",
       "      <td>1.000000</td>\n",
       "    </tr>\n",
       "  </tbody>\n",
       "</table>\n",
       "</div>"
      ],
      "text/plain": [
       "               age       bmi  children   charges\n",
       "age       1.000000  0.109272  0.042469  0.299008\n",
       "bmi       0.109272  1.000000  0.012759  0.198341\n",
       "children  0.042469  0.012759  1.000000  0.067998\n",
       "charges   0.299008  0.198341  0.067998  1.000000"
      ]
     },
     "execution_count": 4,
     "metadata": {},
     "output_type": "execute_result"
    }
   ],
   "source": [
    "corr_matrix = insurance.corr()\n",
    "corr_matrix.head()"
   ]
  },
  {
   "cell_type": "code",
   "execution_count": 5,
   "metadata": {
    "scrolled": true
   },
   "outputs": [
    {
     "data": {
      "text/plain": [
       "charges     1.000000\n",
       "age         0.299008\n",
       "bmi         0.198341\n",
       "children    0.067998\n",
       "Name: charges, dtype: float64"
      ]
     },
     "execution_count": 5,
     "metadata": {},
     "output_type": "execute_result"
    }
   ],
   "source": [
    "# Get the correlation between the input and output\n",
    "corr_matrix[\"charges\"].sort_values(ascending=False)"
   ]
  },
  {
   "cell_type": "code",
   "execution_count": 6,
   "metadata": {},
   "outputs": [
    {
     "data": {
      "text/plain": [
       "<matplotlib.axes._subplots.AxesSubplot at 0x1a2be9404a8>"
      ]
     },
     "execution_count": 6,
     "metadata": {},
     "output_type": "execute_result"
    },
    {
     "data": {
      "image/png": "[encoded data removed]",
      "text/plain": [
       "<Figure size 432x288 with 1 Axes>"
      ]
     },
     "metadata": {},
     "output_type": "display_data"
    }
   ],
   "source": [
    "insurance[\"age\"].hist()"
   ]
  },
  {
   "cell_type": "code",
   "execution_count": 7,
   "metadata": {},
   "outputs": [
    {
     "data": {
      "text/plain": [
       "7.0     198\n",
       "4.0     196\n",
       "8.0     195\n",
       "3.0     194\n",
       "5.0     184\n",
       "6.0     181\n",
       "9.0     168\n",
       "10.0     22\n",
       "Name: age_cat, dtype: int64"
      ]
     },
     "execution_count": 7,
     "metadata": {},
     "output_type": "execute_result"
    }
   ],
   "source": [
    "insurance_stra = insurance.copy()\n",
    "insurance_stra[\"age_cat\"] = np.ceil(insurance_stra[\"age\"] / 7)\n",
    "#insurance_stra[\"age_cat\"].where(housing[\"age_cat\"] < 5, 5.0, inplace=True)\n",
    "insurance_stra[\"age_cat\"].value_counts()"
   ]
  },
  {
   "cell_type": "code",
   "execution_count": 8,
   "metadata": {},
   "outputs": [
    {
     "data": {
      "text/html": [
       "<div>\n",
       "<style scoped>\n",
       "    .dataframe tbody tr th:only-of-type {\n",
       "        vertical-align: middle;\n",
       "    }\n",
       "\n",
       "    .dataframe tbody tr th {\n",
       "        vertical-align: top;\n",
       "    }\n",
       "\n",
       "    .dataframe thead th {\n",
       "        text-align: right;\n",
       "    }\n",
       "</style>\n",
       "<table border=\"1\" class=\"dataframe\">\n",
       "  <thead>\n",
       "    <tr style=\"text-align: right;\">\n",
       "      <th></th>\n",
       "      <th>age</th>\n",
       "      <th>sex</th>\n",
       "      <th>bmi</th>\n",
       "      <th>children</th>\n",
       "      <th>smoker</th>\n",
       "      <th>region</th>\n",
       "      <th>charges</th>\n",
       "    </tr>\n",
       "  </thead>\n",
       "  <tbody>\n",
       "    <tr>\n",
       "      <th>641</th>\n",
       "      <td>42</td>\n",
       "      <td>male</td>\n",
       "      <td>28.31</td>\n",
       "      <td>3</td>\n",
       "      <td>yes</td>\n",
       "      <td>northwest</td>\n",
       "      <td>32787.45859</td>\n",
       "    </tr>\n",
       "    <tr>\n",
       "      <th>959</th>\n",
       "      <td>48</td>\n",
       "      <td>male</td>\n",
       "      <td>36.67</td>\n",
       "      <td>1</td>\n",
       "      <td>no</td>\n",
       "      <td>northwest</td>\n",
       "      <td>28468.91901</td>\n",
       "    </tr>\n",
       "    <tr>\n",
       "      <th>21</th>\n",
       "      <td>30</td>\n",
       "      <td>female</td>\n",
       "      <td>32.40</td>\n",
       "      <td>1</td>\n",
       "      <td>no</td>\n",
       "      <td>southwest</td>\n",
       "      <td>4149.73600</td>\n",
       "    </tr>\n",
       "    <tr>\n",
       "      <th>269</th>\n",
       "      <td>49</td>\n",
       "      <td>male</td>\n",
       "      <td>25.84</td>\n",
       "      <td>1</td>\n",
       "      <td>no</td>\n",
       "      <td>northeast</td>\n",
       "      <td>9282.48060</td>\n",
       "    </tr>\n",
       "    <tr>\n",
       "      <th>810</th>\n",
       "      <td>46</td>\n",
       "      <td>female</td>\n",
       "      <td>30.80</td>\n",
       "      <td>3</td>\n",
       "      <td>no</td>\n",
       "      <td>southwest</td>\n",
       "      <td>9414.92000</td>\n",
       "    </tr>\n",
       "  </tbody>\n",
       "</table>\n",
       "</div>"
      ],
      "text/plain": [
       "     age     sex    bmi  children smoker     region      charges\n",
       "641   42    male  28.31         3    yes  northwest  32787.45859\n",
       "959   48    male  36.67         1     no  northwest  28468.91901\n",
       "21    30  female  32.40         1     no  southwest   4149.73600\n",
       "269   49    male  25.84         1     no  northeast   9282.48060\n",
       "810   46  female  30.80         3     no  southwest   9414.92000"
      ]
     },
     "execution_count": 8,
     "metadata": {},
     "output_type": "execute_result"
    }
   ],
   "source": [
    "# Stratified ShuffleSplit cross-validator\n",
    "# Every age select some people to become test set\n",
    "from sklearn.model_selection import StratifiedShuffleSplit\n",
    "\n",
    "split = StratifiedShuffleSplit(n_splits=1, test_size=0.2, random_state=42)\n",
    "for train_index, test_index in split.split(insurance_stra, insurance_stra[\"age_cat\"]):\n",
    "    strat_train_set = insurance.loc[train_index]\n",
    "    strat_test_set = insurance.loc[test_index]\n",
    "strat_test_set.head()"
   ]
  },
  {
   "cell_type": "code",
   "execution_count": 9,
   "metadata": {},
   "outputs": [],
   "source": [
    "# Delete the unrelated data and Prepare for the data which will be feed to sklearn.pipeline\n",
    "insurance = insurance.drop(\"children\", axis = 1)\n",
    "insurance_labels = insurance[\"charges\"].copy()\n",
    "insurance = insurance.drop(\"charges\", axis = 1)\n",
    "insurance_to_pip = insurance.copy()"
   ]
  },
  {
   "cell_type": "code",
   "execution_count": 10,
   "metadata": {
    "collapsed": true
   },
   "outputs": [],
   "source": [
    "# Num-only data\n",
    "insurance_num = insurance.copy()\n",
    "insurance_num = insurance_num.drop(\"sex\", axis = 1)\n",
    "insurance_num = insurance_num.drop(\"region\", axis = 1)\n",
    "insurance_num = insurance_num.drop(\"smoker\", axis = 1)"
   ]
  },
  {
   "cell_type": "code",
   "execution_count": 11,
   "metadata": {},
   "outputs": [],
   "source": [
    "# Pipeline\n",
    "from sklearn.pipeline import Pipeline\n",
    "from sklearn.preprocessing import StandardScaler\n",
    "from sklearn.pipeline import FeatureUnion\n",
    "from sklearn.base import BaseEstimator, TransformerMixin\n",
    "from sklearn.preprocessing import LabelBinarizer\n",
    "\n",
    "class DataFrameSelector(BaseEstimator, TransformerMixin):\n",
    "    def __init__(self, attribute_names):\n",
    "        self.attribute_names = attribute_names\n",
    "    def fit(self, X, y=None):\n",
    "        return self\n",
    "    def transform(self, X):\n",
    "        return X[self.attribute_names].values\n",
    "    \n",
    "class CustomLabelBinarizer(BaseEstimator, TransformerMixin):\n",
    "    def __init__(self, sparse_output=False):\n",
    "        self.sparse_output = sparse_output\n",
    "    def fit(self, X, y=None):\n",
    "        return self\n",
    "    def transform(self, X, y=None):\n",
    "        enc = LabelBinarizer(sparse_output=self.sparse_output)\n",
    "        return enc.fit_transform(X)\n",
    "\n",
    "num_attribs = list(insurance_num)\n",
    "cat_attribs_smo = [\"smoker\"]\n",
    "cat_attribs_regi = [\"region\"]\n",
    "cat_attribs_sex = [\"sex\"]\n",
    "\n",
    "num_pipeline = Pipeline([\n",
    "        ('selector', DataFrameSelector(num_attribs)),\n",
    "        ('std_scaler', StandardScaler()),\n",
    "    ])\n",
    "\n",
    "cat_pipeline_smo = Pipeline([\n",
    "        ('selector', DataFrameSelector(cat_attribs_smo)),\n",
    "        ('label_binarizer', CustomLabelBinarizer()),\n",
    "    ])\n",
    "\n",
    "cat_pipeline_regi = Pipeline([\n",
    "        ('selector', DataFrameSelector(cat_attribs_regi)),\n",
    "        ('label_binarizer', CustomLabelBinarizer()),\n",
    "    ])\n",
    "\n",
    "cat_pipeline_sex = Pipeline([\n",
    "        ('selector', DataFrameSelector(cat_attribs_sex)),\n",
    "        ('label_binarizer', CustomLabelBinarizer()),\n",
    "    ])\n",
    "\n",
    "preparation_pipeline = FeatureUnion(transformer_list=[\n",
    "        (\"num_pipeline\", num_pipeline),\n",
    "        (\"cat_pipeline_smo\", cat_pipeline_smo),\n",
    "        (\"cat_pipeline_regi\", cat_pipeline_regi),\n",
    "        #(\"cat_pipeline_sex\", cat_pipeline_sex),\n",
    "    ])"
   ]
  },
  {
   "cell_type": "code",
   "execution_count": 12,
   "metadata": {},
   "outputs": [
    {
     "data": {
      "text/plain": [
       "array([[-1.43876426, -0.45332   ,  1.        , ...,  0.        ,\n",
       "         0.        ,  1.        ],\n",
       "       [-1.50996545,  0.5096211 ,  0.        , ...,  0.        ,\n",
       "         1.        ,  0.        ],\n",
       "       [-0.79795355,  0.38330685,  0.        , ...,  0.        ,\n",
       "         1.        ,  0.        ],\n",
       "       ...,\n",
       "       [-1.50996545,  1.0148781 ,  0.        , ...,  0.        ,\n",
       "         1.        ,  0.        ],\n",
       "       [-1.29636188, -0.79781341,  0.        , ...,  0.        ,\n",
       "         0.        ,  1.        ],\n",
       "       [ 1.55168573, -0.26138796,  1.        , ...,  1.        ,\n",
       "         0.        ,  0.        ]])"
      ]
     },
     "execution_count": 12,
     "metadata": {},
     "output_type": "execute_result"
    }
   ],
   "source": [
    "insurance_prepared = preparation_pipeline.fit_transform(insurance_to_pip)\n",
    "insurance_prepared"
   ]
  },
  {
   "cell_type": "code",
   "execution_count": 13,
   "metadata": {},
   "outputs": [
    {
     "data": {
      "text/plain": [
       "LinearRegression(copy_X=True, fit_intercept=True, n_jobs=1, normalize=False)"
      ]
     },
     "execution_count": 13,
     "metadata": {},
     "output_type": "execute_result"
    }
   ],
   "source": [
    "# Model1: Linear Model\n",
    "from sklearn.linear_model import LinearRegression\n",
    "\n",
    "lin_reg = LinearRegression()\n",
    "lin_reg.fit(insurance_prepared, insurance_labels)"
   ]
  },
  {
   "cell_type": "code",
   "execution_count": 14,
   "metadata": {},
   "outputs": [
    {
     "data": {
      "text/plain": [
       "6068.936768666594"
      ]
     },
     "execution_count": 14,
     "metadata": {},
     "output_type": "execute_result"
    }
   ],
   "source": [
    "from sklearn.metrics import mean_squared_error\n",
    "\n",
    "insurance_predictions = lin_reg.predict(insurance_prepared)\n",
    "lin_mse = mean_squared_error(insurance_labels, insurance_predictions)\n",
    "lin_rmse = np.sqrt(lin_mse)\n",
    "lin_rmse"
   ]
  },
  {
   "cell_type": "code",
   "execution_count": 15,
   "metadata": {},
   "outputs": [
    {
     "data": {
      "text/plain": [
       "740.5317999714075"
      ]
     },
     "execution_count": 15,
     "metadata": {},
     "output_type": "execute_result"
    }
   ],
   "source": [
    "# Model2: Decision Tree\n",
    "from sklearn.tree import DecisionTreeRegressor\n",
    "\n",
    "tree_reg = DecisionTreeRegressor()\n",
    "tree_reg.fit(insurance_prepared, insurance_labels)\n",
    "tree_predictions = tree_reg.predict(insurance_prepared)\n",
    "tree_mse = mean_squared_error(insurance_labels, tree_predictions)\n",
    "tree_rmse = np.sqrt(tree_mse)\n",
    "tree_rmse"
   ]
  },
  {
   "cell_type": "code",
   "execution_count": 16,
   "metadata": {},
   "outputs": [
    {
     "data": {
      "text/plain": [
       "2257.862002421057"
      ]
     },
     "execution_count": 16,
     "metadata": {},
     "output_type": "execute_result"
    }
   ],
   "source": [
    "# Model3: random forest\n",
    "from sklearn.ensemble import RandomForestRegressor\n",
    "\n",
    "forest_reg = RandomForestRegressor()\n",
    "forest_reg.fit(insurance_prepared, insurance_labels)\n",
    "rfg_predictions = forest_reg.predict(insurance_prepared)\n",
    "forest_mse = mean_squared_error(insurance_labels, rfg_predictions)\n",
    "forest_rmse = np.sqrt(forest_mse)\n",
    "forest_rmse"
   ]
  },
  {
   "cell_type": "code",
   "execution_count": 17,
   "metadata": {},
   "outputs": [
    {
     "data": {
      "text/plain": [
       "12591.346118044217"
      ]
     },
     "execution_count": 17,
     "metadata": {},
     "output_type": "execute_result"
    }
   ],
   "source": [
    "# Model4: SVR\n",
    "from sklearn.svm import SVR\n",
    "\n",
    "svm_reg = SVR(kernel=\"linear\")\n",
    "svm_reg.fit(insurance_prepared, insurance_labels)\n",
    "svr_predictions = svm_reg.predict(insurance_prepared)\n",
    "svm_mse = mean_squared_error(insurance_labels, svr_predictions)\n",
    "svm_rmse = np.sqrt(svm_mse)\n",
    "svm_rmse"
   ]
  },
  {
   "cell_type": "code",
   "execution_count": 18,
   "metadata": {},
   "outputs": [
    {
     "name": "stdout",
     "output_type": "stream",
     "text": [
      "Scores: [6250.12980903 5759.76066805 6490.82713983 7415.75256408 6093.98811547\n",
      " 6288.81894735 5901.26694693 7184.37973767 6736.29095556 6782.69288007]\n",
      "Mean: 6490.390776403304\n",
      "Standard deviation: 511.87904535857365\n"
     ]
    }
   ],
   "source": [
    "from sklearn.model_selection import cross_val_score\n",
    "\n",
    "def display_scores(scores):\n",
    "    print(\"Scores:\", scores)\n",
    "    print(\"Mean:\", scores.mean())\n",
    "    print(\"Standard deviation:\", scores.std())\n",
    "\n",
    "tree_scores = cross_val_score(tree_reg, insurance_prepared, insurance_labels, scoring=\"neg_mean_squared_error\", cv=10)\n",
    "tree_rmse_scores = np.sqrt(-tree_scores)\n",
    "display_scores(tree_rmse_scores)"
   ]
  },
  {
   "cell_type": "code",
   "execution_count": 19,
   "metadata": {},
   "outputs": [
    {
     "name": "stdout",
     "output_type": "stream",
     "text": [
      "Scores: [5905.09684099 6223.21288635 6116.0104167  6208.25677412 6210.02466587\n",
      " 5272.49788708 5605.04525067 6976.06547483 5723.53737905 6542.19729916]\n",
      "Mean: 6078.194487481718\n",
      "Standard deviation: 459.01942943605934\n"
     ]
    }
   ],
   "source": [
    "lin_scores = cross_val_score(lin_reg, insurance_prepared, insurance_labels, scoring=\"neg_mean_squared_error\", cv=10)\n",
    "lin_rmse_scores = np.sqrt(-lin_scores)\n",
    "display_scores(lin_rmse_scores)"
   ]
  },
  {
   "cell_type": "code",
   "execution_count": 20,
   "metadata": {},
   "outputs": [
    {
     "name": "stdout",
     "output_type": "stream",
     "text": [
      "Scores: [5349.51189387 5378.93191134 5141.91433466 6312.28265269 5208.23304311\n",
      " 4613.40056415 4804.69339414 5953.138302   4966.8471909  5037.30326999]\n",
      "Mean: 5276.625655685033\n",
      "Standard deviation: 488.33225597678256\n"
     ]
    }
   ],
   "source": [
    "from sklearn.model_selection import cross_val_score\n",
    "\n",
    "forest_scores = cross_val_score(forest_reg, insurance_prepared, insurance_labels, scoring=\"neg_mean_squared_error\", cv=10)\n",
    "forest_rmse_scores = np.sqrt(-forest_scores)\n",
    "display_scores(forest_rmse_scores)"
   ]
  },
  {
   "cell_type": "code",
   "execution_count": 21,
   "metadata": {},
   "outputs": [
    {
     "data": {
      "text/plain": [
       "count      10.000000\n",
       "mean     6078.194487\n",
       "std       483.848962\n",
       "min      5272.497887\n",
       "25%      5768.927245\n",
       "50%      6162.133595\n",
       "75%      6219.915831\n",
       "max      6976.065475\n",
       "dtype: float64"
      ]
     },
     "execution_count": 21,
     "metadata": {},
     "output_type": "execute_result"
    }
   ],
   "source": [
    "scores = cross_val_score(lin_reg, insurance_prepared, insurance_labels, scoring=\"neg_mean_squared_error\", cv=10)\n",
    "pd.Series(np.sqrt(-scores)).describe()"
   ]
  },
  {
   "cell_type": "code",
   "execution_count": 25,
   "metadata": {},
   "outputs": [
    {
     "data": {
      "text/plain": [
       "GridSearchCV(cv=5, error_score='raise',\n",
       "       estimator=RandomForestRegressor(bootstrap=True, criterion='mse', max_depth=None,\n",
       "           max_features='auto', max_leaf_nodes=None,\n",
       "           min_impurity_split=1e-07, min_samples_leaf=1,\n",
       "           min_samples_split=2, min_weight_fraction_leaf=0.0,\n",
       "           n_estimators=10, n_jobs=1, oob_score=False, random_state=None,\n",
       "           verbose=0, warm_start=False),\n",
       "       fit_params={}, iid=True, n_jobs=1,\n",
       "       param_grid=[{'max_features': [2, 4, 6], 'n_estimators': [3, 10, 30]}, {'max_features': [2, 3, 4], 'bootstrap': [False], 'n_estimators': [3, 10]}],\n",
       "       pre_dispatch='2*n_jobs', refit=True, return_train_score=True,\n",
       "       scoring='neg_mean_squared_error', verbose=0)"
      ]
     },
     "execution_count": 25,
     "metadata": {},
     "output_type": "execute_result"
    }
   ],
   "source": [
    "from sklearn.model_selection import GridSearchCV\n",
    "\n",
    "param_grid = [\n",
    "        {'n_estimators': [3, 10, 30], 'max_features': [2, 4, 6]},\n",
    "        {'bootstrap': [False], 'n_estimators': [3, 10], 'max_features': [2, 3, 4]},\n",
    "    ]\n",
    "\n",
    "forest_reg = RandomForestRegressor()\n",
    "grid_search = GridSearchCV(forest_reg, param_grid, cv=5, scoring='neg_mean_squared_error')\n",
    "grid_search.fit(insurance_prepared, insurance_labels)"
   ]
  },
  {
   "cell_type": "code",
   "execution_count": 26,
   "metadata": {},
   "outputs": [
    {
     "data": {
      "text/plain": [
       "{'max_features': 4, 'n_estimators': 30}"
      ]
     },
     "execution_count": 26,
     "metadata": {},
     "output_type": "execute_result"
    }
   ],
   "source": [
    "grid_search.best_params_"
   ]
  },
  {
   "cell_type": "code",
   "execution_count": 27,
   "metadata": {},
   "outputs": [
    {
     "data": {
      "text/plain": [
       "RandomForestRegressor(bootstrap=True, criterion='mse', max_depth=None,\n",
       "           max_features=4, max_leaf_nodes=None, min_impurity_split=1e-07,\n",
       "           min_samples_leaf=1, min_samples_split=2,\n",
       "           min_weight_fraction_leaf=0.0, n_estimators=30, n_jobs=1,\n",
       "           oob_score=False, random_state=None, verbose=0, warm_start=False)"
      ]
     },
     "execution_count": 27,
     "metadata": {},
     "output_type": "execute_result"
    }
   ],
   "source": [
    "grid_search.best_estimator_"
   ]
  },
  {
   "cell_type": "code",
   "execution_count": 28,
   "metadata": {},
   "outputs": [
    {
     "name": "stdout",
     "output_type": "stream",
     "text": [
      "5653.369766620972 {'max_features': 2, 'n_estimators': 3}\n",
      "5297.500525481559 {'max_features': 2, 'n_estimators': 10}\n",
      "5068.8407610657005 {'max_features': 2, 'n_estimators': 30}\n",
      "5479.949787929257 {'max_features': 4, 'n_estimators': 3}\n",
      "5042.552735523874 {'max_features': 4, 'n_estimators': 10}\n",
      "5004.6929365503875 {'max_features': 4, 'n_estimators': 30}\n",
      "5673.846872609614 {'max_features': 6, 'n_estimators': 3}\n",
      "5113.199724404258 {'max_features': 6, 'n_estimators': 10}\n",
      "5070.68247388968 {'max_features': 6, 'n_estimators': 30}\n",
      "6020.613188204062 {'max_features': 2, 'bootstrap': False, 'n_estimators': 3}\n",
      "5696.8115022983175 {'max_features': 2, 'bootstrap': False, 'n_estimators': 10}\n",
      "5916.07259751058 {'max_features': 3, 'bootstrap': False, 'n_estimators': 3}\n",
      "5499.201298417397 {'max_features': 3, 'bootstrap': False, 'n_estimators': 10}\n",
      "5863.556587792247 {'max_features': 4, 'bootstrap': False, 'n_estimators': 3}\n",
      "5513.105651856507 {'max_features': 4, 'bootstrap': False, 'n_estimators': 10}\n"
     ]
    }
   ],
   "source": [
    "cvres = grid_search.cv_results_\n",
    "for mean_score, params in zip(cvres[\"mean_test_score\"], cvres[\"params\"]):\n",
    "    print(np.sqrt(-mean_score), params)"
   ]
  },
  {
   "cell_type": "code",
   "execution_count": 29,
   "metadata": {},
   "outputs": [
    {
     "data": {
      "text/html": [
       "<div>\n",
       "<style scoped>\n",
       "    .dataframe tbody tr th:only-of-type {\n",
       "        vertical-align: middle;\n",
       "    }\n",
       "\n",
       "    .dataframe tbody tr th {\n",
       "        vertical-align: top;\n",
       "    }\n",
       "\n",
       "    .dataframe thead th {\n",
       "        text-align: right;\n",
       "    }\n",
       "</style>\n",
       "<table border=\"1\" class=\"dataframe\">\n",
       "  <thead>\n",
       "    <tr style=\"text-align: right;\">\n",
       "      <th></th>\n",
       "      <th>mean_fit_time</th>\n",
       "      <th>mean_score_time</th>\n",
       "      <th>mean_test_score</th>\n",
       "      <th>mean_train_score</th>\n",
       "      <th>param_bootstrap</th>\n",
       "      <th>param_max_features</th>\n",
       "      <th>param_n_estimators</th>\n",
       "      <th>params</th>\n",
       "      <th>rank_test_score</th>\n",
       "      <th>split0_test_score</th>\n",
       "      <th>...</th>\n",
       "      <th>split2_test_score</th>\n",
       "      <th>split2_train_score</th>\n",
       "      <th>split3_test_score</th>\n",
       "      <th>split3_train_score</th>\n",
       "      <th>split4_test_score</th>\n",
       "      <th>split4_train_score</th>\n",
       "      <th>std_fit_time</th>\n",
       "      <th>std_score_time</th>\n",
       "      <th>std_test_score</th>\n",
       "      <th>std_train_score</th>\n",
       "    </tr>\n",
       "  </thead>\n",
       "  <tbody>\n",
       "    <tr>\n",
       "      <th>0</th>\n",
       "      <td>0.007978</td>\n",
       "      <td>0.000998</td>\n",
       "      <td>-3.196059e+07</td>\n",
       "      <td>-9.324897e+06</td>\n",
       "      <td>NaN</td>\n",
       "      <td>2</td>\n",
       "      <td>3</td>\n",
       "      <td>{'max_features': 2, 'n_estimators': 3}</td>\n",
       "      <td>10</td>\n",
       "      <td>-3.379061e+07</td>\n",
       "      <td>...</td>\n",
       "      <td>-2.839799e+07</td>\n",
       "      <td>-1.060449e+07</td>\n",
       "      <td>-3.165883e+07</td>\n",
       "      <td>-6.172894e+06</td>\n",
       "      <td>-2.453268e+07</td>\n",
       "      <td>-8.509207e+06</td>\n",
       "      <td>0.001092</td>\n",
       "      <td>0.000002</td>\n",
       "      <td>5.662659e+06</td>\n",
       "      <td>1.797680e+06</td>\n",
       "    </tr>\n",
       "    <tr>\n",
       "      <th>1</th>\n",
       "      <td>0.019747</td>\n",
       "      <td>0.001597</td>\n",
       "      <td>-2.806351e+07</td>\n",
       "      <td>-5.122058e+06</td>\n",
       "      <td>NaN</td>\n",
       "      <td>2</td>\n",
       "      <td>10</td>\n",
       "      <td>{'max_features': 2, 'n_estimators': 10}</td>\n",
       "      <td>6</td>\n",
       "      <td>-2.894141e+07</td>\n",
       "      <td>...</td>\n",
       "      <td>-2.039904e+07</td>\n",
       "      <td>-5.455459e+06</td>\n",
       "      <td>-3.042694e+07</td>\n",
       "      <td>-4.892432e+06</td>\n",
       "      <td>-2.760733e+07</td>\n",
       "      <td>-5.200812e+06</td>\n",
       "      <td>0.004058</td>\n",
       "      <td>0.000489</td>\n",
       "      <td>4.226055e+06</td>\n",
       "      <td>4.674775e+05</td>\n",
       "    </tr>\n",
       "    <tr>\n",
       "      <th>2</th>\n",
       "      <td>0.044678</td>\n",
       "      <td>0.002992</td>\n",
       "      <td>-2.569315e+07</td>\n",
       "      <td>-4.176911e+06</td>\n",
       "      <td>NaN</td>\n",
       "      <td>2</td>\n",
       "      <td>30</td>\n",
       "      <td>{'max_features': 2, 'n_estimators': 30}</td>\n",
       "      <td>3</td>\n",
       "      <td>-2.523443e+07</td>\n",
       "      <td>...</td>\n",
       "      <td>-2.067385e+07</td>\n",
       "      <td>-4.489292e+06</td>\n",
       "      <td>-2.750389e+07</td>\n",
       "      <td>-4.193328e+06</td>\n",
       "      <td>-2.568521e+07</td>\n",
       "      <td>-4.695268e+06</td>\n",
       "      <td>0.003644</td>\n",
       "      <td>0.000631</td>\n",
       "      <td>2.908270e+06</td>\n",
       "      <td>3.874040e+05</td>\n",
       "    </tr>\n",
       "    <tr>\n",
       "      <th>3</th>\n",
       "      <td>0.007190</td>\n",
       "      <td>0.000998</td>\n",
       "      <td>-3.002985e+07</td>\n",
       "      <td>-7.718091e+06</td>\n",
       "      <td>NaN</td>\n",
       "      <td>4</td>\n",
       "      <td>3</td>\n",
       "      <td>{'max_features': 4, 'n_estimators': 3}</td>\n",
       "      <td>7</td>\n",
       "      <td>-3.185684e+07</td>\n",
       "      <td>...</td>\n",
       "      <td>-2.711851e+07</td>\n",
       "      <td>-8.826792e+06</td>\n",
       "      <td>-2.838426e+07</td>\n",
       "      <td>-7.118112e+06</td>\n",
       "      <td>-2.905401e+07</td>\n",
       "      <td>-7.948117e+06</td>\n",
       "      <td>0.001169</td>\n",
       "      <td>0.001093</td>\n",
       "      <td>2.415134e+06</td>\n",
       "      <td>6.526476e+05</td>\n",
       "    </tr>\n",
       "    <tr>\n",
       "      <th>4</th>\n",
       "      <td>0.017346</td>\n",
       "      <td>0.001197</td>\n",
       "      <td>-2.542734e+07</td>\n",
       "      <td>-4.848260e+06</td>\n",
       "      <td>NaN</td>\n",
       "      <td>4</td>\n",
       "      <td>10</td>\n",
       "      <td>{'max_features': 4, 'n_estimators': 10}</td>\n",
       "      <td>2</td>\n",
       "      <td>-2.501816e+07</td>\n",
       "      <td>...</td>\n",
       "      <td>-2.127708e+07</td>\n",
       "      <td>-5.395126e+06</td>\n",
       "      <td>-2.666081e+07</td>\n",
       "      <td>-4.484451e+06</td>\n",
       "      <td>-2.382574e+07</td>\n",
       "      <td>-4.901989e+06</td>\n",
       "      <td>0.000513</td>\n",
       "      <td>0.000399</td>\n",
       "      <td>3.026518e+06</td>\n",
       "      <td>3.519584e+05</td>\n",
       "    </tr>\n",
       "    <tr>\n",
       "      <th>5</th>\n",
       "      <td>0.052061</td>\n",
       "      <td>0.002792</td>\n",
       "      <td>-2.504695e+07</td>\n",
       "      <td>-4.028452e+06</td>\n",
       "      <td>NaN</td>\n",
       "      <td>4</td>\n",
       "      <td>30</td>\n",
       "      <td>{'max_features': 4, 'n_estimators': 30}</td>\n",
       "      <td>1</td>\n",
       "      <td>-2.487929e+07</td>\n",
       "      <td>...</td>\n",
       "      <td>-2.073689e+07</td>\n",
       "      <td>-4.433997e+06</td>\n",
       "      <td>-2.659778e+07</td>\n",
       "      <td>-3.938628e+06</td>\n",
       "      <td>-2.282542e+07</td>\n",
       "      <td>-4.315551e+06</td>\n",
       "      <td>0.001336</td>\n",
       "      <td>0.000399</td>\n",
       "      <td>3.239648e+06</td>\n",
       "      <td>3.430675e+05</td>\n",
       "    </tr>\n",
       "    <tr>\n",
       "      <th>6</th>\n",
       "      <td>0.006782</td>\n",
       "      <td>0.000798</td>\n",
       "      <td>-3.219254e+07</td>\n",
       "      <td>-8.110882e+06</td>\n",
       "      <td>NaN</td>\n",
       "      <td>6</td>\n",
       "      <td>3</td>\n",
       "      <td>{'max_features': 6, 'n_estimators': 3}</td>\n",
       "      <td>11</td>\n",
       "      <td>-3.265313e+07</td>\n",
       "      <td>...</td>\n",
       "      <td>-3.320624e+07</td>\n",
       "      <td>-9.373180e+06</td>\n",
       "      <td>-3.143586e+07</td>\n",
       "      <td>-7.590197e+06</td>\n",
       "      <td>-2.501765e+07</td>\n",
       "      <td>-8.464191e+06</td>\n",
       "      <td>0.000400</td>\n",
       "      <td>0.000399</td>\n",
       "      <td>4.348635e+06</td>\n",
       "      <td>7.271808e+05</td>\n",
       "    </tr>\n",
       "    <tr>\n",
       "      <th>7</th>\n",
       "      <td>0.022346</td>\n",
       "      <td>0.001389</td>\n",
       "      <td>-2.614481e+07</td>\n",
       "      <td>-4.898442e+06</td>\n",
       "      <td>NaN</td>\n",
       "      <td>6</td>\n",
       "      <td>10</td>\n",
       "      <td>{'max_features': 6, 'n_estimators': 10}</td>\n",
       "      <td>5</td>\n",
       "      <td>-2.656593e+07</td>\n",
       "      <td>...</td>\n",
       "      <td>-1.983831e+07</td>\n",
       "      <td>-5.436590e+06</td>\n",
       "      <td>-2.728170e+07</td>\n",
       "      <td>-4.796802e+06</td>\n",
       "      <td>-2.506813e+07</td>\n",
       "      <td>-5.186871e+06</td>\n",
       "      <td>0.001734</td>\n",
       "      <td>0.000479</td>\n",
       "      <td>3.910018e+06</td>\n",
       "      <td>3.667840e+05</td>\n",
       "    </tr>\n",
       "    <tr>\n",
       "      <th>8</th>\n",
       "      <td>0.065408</td>\n",
       "      <td>0.003000</td>\n",
       "      <td>-2.571182e+07</td>\n",
       "      <td>-4.050110e+06</td>\n",
       "      <td>NaN</td>\n",
       "      <td>6</td>\n",
       "      <td>30</td>\n",
       "      <td>{'max_features': 6, 'n_estimators': 30}</td>\n",
       "      <td>4</td>\n",
       "      <td>-2.490453e+07</td>\n",
       "      <td>...</td>\n",
       "      <td>-2.249048e+07</td>\n",
       "      <td>-4.189742e+06</td>\n",
       "      <td>-2.733558e+07</td>\n",
       "      <td>-4.171852e+06</td>\n",
       "      <td>-2.239027e+07</td>\n",
       "      <td>-4.325413e+06</td>\n",
       "      <td>0.006654</td>\n",
       "      <td>0.000632</td>\n",
       "      <td>3.389757e+06</td>\n",
       "      <td>2.323847e+05</td>\n",
       "    </tr>\n",
       "    <tr>\n",
       "      <th>9</th>\n",
       "      <td>0.005975</td>\n",
       "      <td>0.000398</td>\n",
       "      <td>-3.624778e+07</td>\n",
       "      <td>-4.425853e+05</td>\n",
       "      <td>False</td>\n",
       "      <td>2</td>\n",
       "      <td>3</td>\n",
       "      <td>{'max_features': 2, 'bootstrap': False, 'n_est...</td>\n",
       "      <td>15</td>\n",
       "      <td>-3.864541e+07</td>\n",
       "      <td>...</td>\n",
       "      <td>-3.511504e+07</td>\n",
       "      <td>-6.067391e+05</td>\n",
       "      <td>-3.698345e+07</td>\n",
       "      <td>-5.572985e+05</td>\n",
       "      <td>-3.165397e+07</td>\n",
       "      <td>-6.849839e+05</td>\n",
       "      <td>0.000017</td>\n",
       "      <td>0.000487</td>\n",
       "      <td>2.657011e+06</td>\n",
       "      <td>2.193222e+05</td>\n",
       "    </tr>\n",
       "    <tr>\n",
       "      <th>10</th>\n",
       "      <td>0.019754</td>\n",
       "      <td>0.001197</td>\n",
       "      <td>-3.245366e+07</td>\n",
       "      <td>-4.425853e+05</td>\n",
       "      <td>False</td>\n",
       "      <td>2</td>\n",
       "      <td>10</td>\n",
       "      <td>{'max_features': 2, 'bootstrap': False, 'n_est...</td>\n",
       "      <td>12</td>\n",
       "      <td>-3.200845e+07</td>\n",
       "      <td>...</td>\n",
       "      <td>-2.737992e+07</td>\n",
       "      <td>-6.067391e+05</td>\n",
       "      <td>-3.523067e+07</td>\n",
       "      <td>-5.572985e+05</td>\n",
       "      <td>-3.145452e+07</td>\n",
       "      <td>-6.849839e+05</td>\n",
       "      <td>0.002150</td>\n",
       "      <td>0.000399</td>\n",
       "      <td>3.122073e+06</td>\n",
       "      <td>2.193222e+05</td>\n",
       "    </tr>\n",
       "    <tr>\n",
       "      <th>11</th>\n",
       "      <td>0.007173</td>\n",
       "      <td>0.000991</td>\n",
       "      <td>-3.499991e+07</td>\n",
       "      <td>-4.425853e+05</td>\n",
       "      <td>False</td>\n",
       "      <td>3</td>\n",
       "      <td>3</td>\n",
       "      <td>{'max_features': 3, 'bootstrap': False, 'n_est...</td>\n",
       "      <td>14</td>\n",
       "      <td>-3.345266e+07</td>\n",
       "      <td>...</td>\n",
       "      <td>-3.178256e+07</td>\n",
       "      <td>-6.067391e+05</td>\n",
       "      <td>-3.861800e+07</td>\n",
       "      <td>-5.572985e+05</td>\n",
       "      <td>-3.271979e+07</td>\n",
       "      <td>-6.849839e+05</td>\n",
       "      <td>0.000404</td>\n",
       "      <td>0.000012</td>\n",
       "      <td>2.925978e+06</td>\n",
       "      <td>2.193222e+05</td>\n",
       "    </tr>\n",
       "    <tr>\n",
       "      <th>12</th>\n",
       "      <td>0.024524</td>\n",
       "      <td>0.001605</td>\n",
       "      <td>-3.024121e+07</td>\n",
       "      <td>-4.425853e+05</td>\n",
       "      <td>False</td>\n",
       "      <td>3</td>\n",
       "      <td>10</td>\n",
       "      <td>{'max_features': 3, 'bootstrap': False, 'n_est...</td>\n",
       "      <td>8</td>\n",
       "      <td>-3.126918e+07</td>\n",
       "      <td>...</td>\n",
       "      <td>-2.421952e+07</td>\n",
       "      <td>-6.067391e+05</td>\n",
       "      <td>-3.222342e+07</td>\n",
       "      <td>-5.572985e+05</td>\n",
       "      <td>-2.649791e+07</td>\n",
       "      <td>-6.849839e+05</td>\n",
       "      <td>0.004914</td>\n",
       "      <td>0.000478</td>\n",
       "      <td>4.491809e+06</td>\n",
       "      <td>2.193222e+05</td>\n",
       "    </tr>\n",
       "    <tr>\n",
       "      <th>13</th>\n",
       "      <td>0.007180</td>\n",
       "      <td>0.000599</td>\n",
       "      <td>-3.438130e+07</td>\n",
       "      <td>-4.425853e+05</td>\n",
       "      <td>False</td>\n",
       "      <td>4</td>\n",
       "      <td>3</td>\n",
       "      <td>{'max_features': 4, 'bootstrap': False, 'n_est...</td>\n",
       "      <td>13</td>\n",
       "      <td>-3.535342e+07</td>\n",
       "      <td>...</td>\n",
       "      <td>-3.122347e+07</td>\n",
       "      <td>-6.067391e+05</td>\n",
       "      <td>-3.406949e+07</td>\n",
       "      <td>-5.572985e+05</td>\n",
       "      <td>-2.875184e+07</td>\n",
       "      <td>-6.849839e+05</td>\n",
       "      <td>0.000398</td>\n",
       "      <td>0.000489</td>\n",
       "      <td>4.656947e+06</td>\n",
       "      <td>2.193222e+05</td>\n",
       "    </tr>\n",
       "    <tr>\n",
       "      <th>14</th>\n",
       "      <td>0.023331</td>\n",
       "      <td>0.001006</td>\n",
       "      <td>-3.039433e+07</td>\n",
       "      <td>-4.425853e+05</td>\n",
       "      <td>False</td>\n",
       "      <td>4</td>\n",
       "      <td>10</td>\n",
       "      <td>{'max_features': 4, 'bootstrap': False, 'n_est...</td>\n",
       "      <td>9</td>\n",
       "      <td>-3.312354e+07</td>\n",
       "      <td>...</td>\n",
       "      <td>-2.691168e+07</td>\n",
       "      <td>-6.067391e+05</td>\n",
       "      <td>-2.952290e+07</td>\n",
       "      <td>-5.572985e+05</td>\n",
       "      <td>-2.538168e+07</td>\n",
       "      <td>-6.849839e+05</td>\n",
       "      <td>0.000803</td>\n",
       "      <td>0.000018</td>\n",
       "      <td>4.225308e+06</td>\n",
       "      <td>2.193222e+05</td>\n",
       "    </tr>\n",
       "  </tbody>\n",
       "</table>\n",
       "<p>15 rows × 23 columns</p>\n",
       "</div>"
      ],
      "text/plain": [
       "    mean_fit_time  mean_score_time  mean_test_score  mean_train_score  \\\n",
       "0        0.007978         0.000998    -3.196059e+07     -9.324897e+06   \n",
       "1        0.019747         0.001597    -2.806351e+07     -5.122058e+06   \n",
       "2        0.044678         0.002992    -2.569315e+07     -4.176911e+06   \n",
       "3        0.007190         0.000998    -3.002985e+07     -7.718091e+06   \n",
       "4        0.017346         0.001197    -2.542734e+07     -4.848260e+06   \n",
       "5        0.052061         0.002792    -2.504695e+07     -4.028452e+06   \n",
       "6        0.006782         0.000798    -3.219254e+07     -8.110882e+06   \n",
       "7        0.022346         0.001389    -2.614481e+07     -4.898442e+06   \n",
       "8        0.065408         0.003000    -2.571182e+07     -4.050110e+06   \n",
       "9        0.005975         0.000398    -3.624778e+07     -4.425853e+05   \n",
       "10       0.019754         0.001197    -3.245366e+07     -4.425853e+05   \n",
       "11       0.007173         0.000991    -3.499991e+07     -4.425853e+05   \n",
       "12       0.024524         0.001605    -3.024121e+07     -4.425853e+05   \n",
       "13       0.007180         0.000599    -3.438130e+07     -4.425853e+05   \n",
       "14       0.023331         0.001006    -3.039433e+07     -4.425853e+05   \n",
       "\n",
       "   param_bootstrap param_max_features param_n_estimators  \\\n",
       "0              NaN                  2                  3   \n",
       "1              NaN                  2                 10   \n",
       "2              NaN                  2                 30   \n",
       "3              NaN                  4                  3   \n",
       "4              NaN                  4                 10   \n",
       "5              NaN                  4                 30   \n",
       "6              NaN                  6                  3   \n",
       "7              NaN                  6                 10   \n",
       "8              NaN                  6                 30   \n",
       "9            False                  2                  3   \n",
       "10           False                  2                 10   \n",
       "11           False                  3                  3   \n",
       "12           False                  3                 10   \n",
       "13           False                  4                  3   \n",
       "14           False                  4                 10   \n",
       "\n",
       "                                               params  rank_test_score  \\\n",
       "0              {'max_features': 2, 'n_estimators': 3}               10   \n",
       "1             {'max_features': 2, 'n_estimators': 10}                6   \n",
       "2             {'max_features': 2, 'n_estimators': 30}                3   \n",
       "3              {'max_features': 4, 'n_estimators': 3}                7   \n",
       "4             {'max_features': 4, 'n_estimators': 10}                2   \n",
       "5             {'max_features': 4, 'n_estimators': 30}                1   \n",
       "6              {'max_features': 6, 'n_estimators': 3}               11   \n",
       "7             {'max_features': 6, 'n_estimators': 10}                5   \n",
       "8             {'max_features': 6, 'n_estimators': 30}                4   \n",
       "9   {'max_features': 2, 'bootstrap': False, 'n_est...               15   \n",
       "10  {'max_features': 2, 'bootstrap': False, 'n_est...               12   \n",
       "11  {'max_features': 3, 'bootstrap': False, 'n_est...               14   \n",
       "12  {'max_features': 3, 'bootstrap': False, 'n_est...                8   \n",
       "13  {'max_features': 4, 'bootstrap': False, 'n_est...               13   \n",
       "14  {'max_features': 4, 'bootstrap': False, 'n_est...                9   \n",
       "\n",
       "    split0_test_score       ...         split2_test_score  split2_train_score  \\\n",
       "0       -3.379061e+07       ...             -2.839799e+07       -1.060449e+07   \n",
       "1       -2.894141e+07       ...             -2.039904e+07       -5.455459e+06   \n",
       "2       -2.523443e+07       ...             -2.067385e+07       -4.489292e+06   \n",
       "3       -3.185684e+07       ...             -2.711851e+07       -8.826792e+06   \n",
       "4       -2.501816e+07       ...             -2.127708e+07       -5.395126e+06   \n",
       "5       -2.487929e+07       ...             -2.073689e+07       -4.433997e+06   \n",
       "6       -3.265313e+07       ...             -3.320624e+07       -9.373180e+06   \n",
       "7       -2.656593e+07       ...             -1.983831e+07       -5.436590e+06   \n",
       "8       -2.490453e+07       ...             -2.249048e+07       -4.189742e+06   \n",
       "9       -3.864541e+07       ...             -3.511504e+07       -6.067391e+05   \n",
       "10      -3.200845e+07       ...             -2.737992e+07       -6.067391e+05   \n",
       "11      -3.345266e+07       ...             -3.178256e+07       -6.067391e+05   \n",
       "12      -3.126918e+07       ...             -2.421952e+07       -6.067391e+05   \n",
       "13      -3.535342e+07       ...             -3.122347e+07       -6.067391e+05   \n",
       "14      -3.312354e+07       ...             -2.691168e+07       -6.067391e+05   \n",
       "\n",
       "    split3_test_score  split3_train_score  split4_test_score  \\\n",
       "0       -3.165883e+07       -6.172894e+06      -2.453268e+07   \n",
       "1       -3.042694e+07       -4.892432e+06      -2.760733e+07   \n",
       "2       -2.750389e+07       -4.193328e+06      -2.568521e+07   \n",
       "3       -2.838426e+07       -7.118112e+06      -2.905401e+07   \n",
       "4       -2.666081e+07       -4.484451e+06      -2.382574e+07   \n",
       "5       -2.659778e+07       -3.938628e+06      -2.282542e+07   \n",
       "6       -3.143586e+07       -7.590197e+06      -2.501765e+07   \n",
       "7       -2.728170e+07       -4.796802e+06      -2.506813e+07   \n",
       "8       -2.733558e+07       -4.171852e+06      -2.239027e+07   \n",
       "9       -3.698345e+07       -5.572985e+05      -3.165397e+07   \n",
       "10      -3.523067e+07       -5.572985e+05      -3.145452e+07   \n",
       "11      -3.861800e+07       -5.572985e+05      -3.271979e+07   \n",
       "12      -3.222342e+07       -5.572985e+05      -2.649791e+07   \n",
       "13      -3.406949e+07       -5.572985e+05      -2.875184e+07   \n",
       "14      -2.952290e+07       -5.572985e+05      -2.538168e+07   \n",
       "\n",
       "    split4_train_score  std_fit_time  std_score_time  std_test_score  \\\n",
       "0        -8.509207e+06      0.001092        0.000002    5.662659e+06   \n",
       "1        -5.200812e+06      0.004058        0.000489    4.226055e+06   \n",
       "2        -4.695268e+06      0.003644        0.000631    2.908270e+06   \n",
       "3        -7.948117e+06      0.001169        0.001093    2.415134e+06   \n",
       "4        -4.901989e+06      0.000513        0.000399    3.026518e+06   \n",
       "5        -4.315551e+06      0.001336        0.000399    3.239648e+06   \n",
       "6        -8.464191e+06      0.000400        0.000399    4.348635e+06   \n",
       "7        -5.186871e+06      0.001734        0.000479    3.910018e+06   \n",
       "8        -4.325413e+06      0.006654        0.000632    3.389757e+06   \n",
       "9        -6.849839e+05      0.000017        0.000487    2.657011e+06   \n",
       "10       -6.849839e+05      0.002150        0.000399    3.122073e+06   \n",
       "11       -6.849839e+05      0.000404        0.000012    2.925978e+06   \n",
       "12       -6.849839e+05      0.004914        0.000478    4.491809e+06   \n",
       "13       -6.849839e+05      0.000398        0.000489    4.656947e+06   \n",
       "14       -6.849839e+05      0.000803        0.000018    4.225308e+06   \n",
       "\n",
       "    std_train_score  \n",
       "0      1.797680e+06  \n",
       "1      4.674775e+05  \n",
       "2      3.874040e+05  \n",
       "3      6.526476e+05  \n",
       "4      3.519584e+05  \n",
       "5      3.430675e+05  \n",
       "6      7.271808e+05  \n",
       "7      3.667840e+05  \n",
       "8      2.323847e+05  \n",
       "9      2.193222e+05  \n",
       "10     2.193222e+05  \n",
       "11     2.193222e+05  \n",
       "12     2.193222e+05  \n",
       "13     2.193222e+05  \n",
       "14     2.193222e+05  \n",
       "\n",
       "[15 rows x 23 columns]"
      ]
     },
     "execution_count": 29,
     "metadata": {},
     "output_type": "execute_result"
    }
   ],
   "source": [
    "pd.DataFrame(grid_search.cv_results_)"
   ]
  },
  {
   "cell_type": "code",
   "execution_count": 30,
   "metadata": {},
   "outputs": [],
   "source": [
    "final_model = grid_search.best_estimator_\n",
    "\n",
    "X_test = strat_test_set.drop(\"charges\", axis=1)\n",
    "y_test = strat_test_set[\"charges\"].copy()\n"
   ]
  },
  {
   "cell_type": "code",
   "execution_count": 31,
   "metadata": {},
   "outputs": [
    {
     "data": {
      "text/plain": [
       "1943.3816093958487"
      ]
     },
     "execution_count": 31,
     "metadata": {},
     "output_type": "execute_result"
    }
   ],
   "source": [
    "X_test_transformed = preparation_pipeline.transform(X_test)\n",
    "final_predictions = final_model.predict(X_test_transformed)\n",
    "\n",
    "final_mse = mean_squared_error(y_test, final_predictions)\n",
    "final_rmse = np.sqrt(final_mse)\n",
    "final_rmse"
   ]
  },
  {
   "cell_type": "code",
   "execution_count": null,
   "metadata": {
    "collapsed": true
   },
   "outputs": [],
   "source": []
  }
 ],
 "metadata": {
  "kernelspec": {
   "display_name": "Python 3",
   "language": "python",
   "name": "python3"
  },
  "language_info": {
   "codemirror_mode": {
    "name": "ipython",
    "version": 3
   },
   "file_extension": ".py",
   "mimetype": "text/x-python",
   "name": "python",
   "nbconvert_exporter": "python",
   "pygments_lexer": "ipython3",
   "version": "3.5.5"
  }
 },
 "nbformat": 4,
 "nbformat_minor": 2
}
